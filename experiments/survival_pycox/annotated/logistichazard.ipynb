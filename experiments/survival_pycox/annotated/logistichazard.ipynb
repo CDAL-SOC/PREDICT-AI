{
 "cells": [
  {
   "cell_type": "markdown",
   "metadata": {},
   "source": [
    "# Introduction to the pycox package\n",
    "\n",
    "\n",
    "In this notebook we introduce the use of `pycox` through an example dataset.\n",
    "We illustrate the procedure with the `LogisticHazard` method ([paper_link](https://arxiv.org/abs/1910.06724)), but we this can easily be replaced by for example `PMF`, `MTLR` or `DeepHitSingle`.\n",
    "\n",
    "In the following we will:\n",
    "\n",
    "- Load the METABRIC survival dataset.\n",
    "- Process the event labels so the they work with our methods.\n",
    "- Create a [PyTorch](https://pytorch.org) neural network.\n",
    "- Fit the model.\n",
    "- Evaluate the predictive performance using the concordance, Brier score, and negative binomial log-likelihood.\n",
    "\n",
    "While some knowledge of the [PyTorch](https://pytorch.org) framework is preferable, it is not required for the use of simple neural networks.\n",
    "For building more advanced network architectures, however, we would recommend looking at [the PyTorch tutorials](https://pytorch.org/tutorials/)."
   ]
  },
  {
   "cell_type": "markdown",
   "metadata": {},
   "source": [
    "## Imports\n",
    "\n",
    "You need `sklearn-pandas` which can be installed by uncommenting the following block"
   ]
  },
  {
   "cell_type": "code",
   "execution_count": 1,
   "metadata": {},
   "outputs": [],
   "source": [
    "# ! pip install sklearn-pandas"
   ]
  },
  {
   "cell_type": "code",
   "execution_count": 2,
   "metadata": {},
   "outputs": [],
   "source": [
    "import numpy as np\n",
    "import pandas as pd\n",
    "import matplotlib.pyplot as plt\n",
    "\n",
    "# For preprocessing\n",
    "from sklearn.preprocessing import StandardScaler\n",
    "from sklearn.model_selection import train_test_split\n",
    "from sklearn_pandas import DataFrameMapper"
   ]
  },
  {
   "cell_type": "markdown",
   "metadata": {},
   "source": [
    "`pycox` is built on top of [PyTorch](https://pytorch.org) and [torchtuples](https://github.com/havakv/torchtuples), where the latter is just a simple way of training neural nets with less boilerplate code."
   ]
  },
  {
   "cell_type": "code",
   "execution_count": 3,
   "metadata": {},
   "outputs": [],
   "source": [
    "import torch # For building the networks \n",
    "import torchtuples as tt # Some useful functions"
   ]
  },
  {
   "cell_type": "markdown",
   "metadata": {},
   "source": [
    "We import the `metabric` dataset, the `LogisticHazard` method ([paper_link](https://arxiv.org/abs/1910.06724)) also known as [Nnet-survival](https://peerj.com/articles/6257/), and `EvalSurv` which simplifies the evaluation procedure at the end.\n",
    "\n",
    "You can alternatively replace `LogisticHazard` with, for example, `PMF` or `DeepHitSingle`, which should both work in this notebook."
   ]
  },
  {
   "cell_type": "code",
   "execution_count": 4,
   "metadata": {},
   "outputs": [],
   "source": [
    "from pycox.datasets import metabric\n",
    "from pycox.models import LogisticHazard\n",
    "# from pycox.models import PMF\n",
    "# from pycox.models import DeepHitSingle\n",
    "from pycox.evaluation import EvalSurv"
   ]
  },
  {
   "cell_type": "code",
   "execution_count": 5,
   "metadata": {},
   "outputs": [],
   "source": [
    "# We also set some seeds to make this reproducable.\n",
    "# Note that on gpu, there is still some randomness.\n",
    "np.random.seed(42)\n",
    "_ = torch.manual_seed(42)"
   ]
  },
  {
   "cell_type": "markdown",
   "metadata": {},
   "source": [
    "## Dataset\n",
    "\n",
    "We load the METABRIC data set as a pandas DataFrame and split the data in in train, test and validation.\n",
    "\n",
    "The `duration` column gives the observed times and the `event` column contains indicators of whether the observation is an event (1) or a censored observation (0)."
   ]
  },
  {
   "cell_type": "code",
   "execution_count": 6,
   "metadata": {},
   "outputs": [],
   "source": [
    "genie_x = pd.read_csv(\n",
    "    \"../../data/clinvar_gpd_annovar_annotated_genie_feature_matrix.csv\"\n",
    ")\n",
    "crc_surv, nsclc_surv = pd.read_csv(\"../../data/crc_surv.csv\").rename(\n",
    "    columns={\n",
    "        \"sample_id\": \"Tumor_Sample_Barcode\",\n",
    "        \"tt_pfs_m_g_mos\": \"duration\",\n",
    "        \"pfs_m_g_status\": \"event\",\n",
    "    }\n",
    "), pd.read_csv(\"../../data/nsclc_surv.csv\").rename(\n",
    "    columns={\n",
    "        \"sample_id\": \"Tumor_Sample_Barcode\",\n",
    "        \"tt_pfs_m_g_mos\": \"duration\",\n",
    "        \"pfs_m_g_status\": \"event\",\n",
    "    }\n",
    ")\n",
    "genie_surv = pd.concat([crc_surv, nsclc_surv], axis=0).reset_index(drop=True)\n",
    "\n",
    "df_genie = genie_surv.merge(genie_x, on=\"Tumor_Sample_Barcode\")\n",
    "\n",
    "df_train = df_genie.copy(deep=True)\n",
    "df_test = df_train.sample(frac=0.2)\n",
    "df_train = df_train.drop(df_test.index)\n",
    "df_val = df_train.sample(frac=0.2)\n",
    "df_train = df_train.drop(df_val.index)"
   ]
  },
  {
   "cell_type": "markdown",
   "metadata": {},
   "source": [
    "## Feature transforms\n",
    "\n",
    "The METABRIC dataset has  9 covariates: `x0, ..., x8`.\n",
    "We will standardize the 5 numerical covariates, and leave the binary covariates as is.\n",
    "Note that PyTorch require variables of type `'float32'`.\n",
    "\n",
    "Here we use the `sklearn_pandas.DataFrameMapper` to make feature mappers, but this has nothing to do the the `pycox` package."
   ]
  },
  {
   "cell_type": "code",
   "execution_count": 7,
   "metadata": {},
   "outputs": [],
   "source": [
    "cols_x = df_genie.drop([\"Tumor_Sample_Barcode\", \"duration\", \"event\"], axis=1).columns\n",
    "leave = [(col, None) for col in cols_x]\n",
    "\n",
    "x_mapper = DataFrameMapper(leave)"
   ]
  },
  {
   "cell_type": "code",
   "execution_count": 8,
   "metadata": {},
   "outputs": [],
   "source": [
    "x_train = x_mapper.fit_transform(df_train).astype('float32')\n",
    "x_val = x_mapper.transform(df_val).astype('float32')\n",
    "x_test = x_mapper.transform(df_test).astype('float32')"
   ]
  },
  {
   "cell_type": "markdown",
   "metadata": {},
   "source": [
    "## Label transforms\n",
    "\n",
    "The survival methods require individual label transforms, so we have included a proposed `label_transform` for each method.\n",
    "For most of them the `label_transform` is just a shorthand for the class `pycox.preprocessing.label_transforms.LabTransDiscreteTime`.\n",
    "\n",
    "The `LogisticHazard` is a discrete-time method, meaning it requires discretization of the event times to be applied to continuous-time data.\n",
    "We let `num_durations` define the size of this (equidistant) discretization grid, meaning our network will have `num_durations` output nodes."
   ]
  },
  {
   "cell_type": "code",
   "execution_count": 9,
   "metadata": {},
   "outputs": [],
   "source": [
    "num_durations = 10\n",
    "\n",
    "labtrans = LogisticHazard.label_transform(num_durations)\n",
    "# labtrans = PMF.label_transform(num_durations)\n",
    "# labtrans = DeepHitSingle.label_transform(num_durations)\n",
    "\n",
    "get_target = lambda df: (df[\"duration\"].values, df[\"event\"].values)\n",
    "y_train = labtrans.fit_transform(*get_target(df_train))\n",
    "y_val = labtrans.transform(*get_target(df_val))\n",
    "\n",
    "train = (x_train, y_train)\n",
    "val = (x_val, y_val)\n",
    "\n",
    "# We don't need to transform the test labels\n",
    "durations_test, events_test = get_target(df_test)"
   ]
  },
  {
   "cell_type": "code",
   "execution_count": 10,
   "metadata": {},
   "outputs": [
    {
     "data": {
      "text/plain": [
       "pycox.preprocessing.label_transforms.LabTransDiscreteTime"
      ]
     },
     "execution_count": 10,
     "metadata": {},
     "output_type": "execute_result"
    }
   ],
   "source": [
    "type(labtrans)"
   ]
  },
  {
   "cell_type": "markdown",
   "metadata": {},
   "source": [
    "The `labtrans.cuts` contains the discretization grid. This will later be used to obtain the right time-scale for survival predictions."
   ]
  },
  {
   "cell_type": "code",
   "execution_count": 11,
   "metadata": {},
   "outputs": [
    {
     "data": {
      "text/plain": [
       "array([ 0.        ,  2.89108187,  5.78216374,  8.67324561, 11.56432748,\n",
       "       14.45540936, 17.34649123, 20.2375731 , 23.12865497, 26.01973684])"
      ]
     },
     "execution_count": 11,
     "metadata": {},
     "output_type": "execute_result"
    }
   ],
   "source": [
    "labtrans.cuts"
   ]
  },
  {
   "cell_type": "markdown",
   "metadata": {},
   "source": [
    "Now, `y_train` is a tuple with the indices of the discretized times, in addition to event indicators."
   ]
  },
  {
   "cell_type": "code",
   "execution_count": 12,
   "metadata": {},
   "outputs": [
    {
     "data": {
      "text/plain": [
       "(array([1, 5, 2, 0, 2, 1, 2, 2, 5, 4, 4, 1, 0, 1, 6, 2, 7, 5, 0, 2, 2, 4,\n",
       "        2, 1, 6, 0, 1, 2, 5, 2, 6, 2, 2, 1, 5, 5, 1, 1, 1, 0, 5, 2, 1, 3,\n",
       "        8, 2, 3, 3, 0, 1, 4, 9, 1, 4, 2, 4, 5, 1, 2, 1, 2, 1, 3, 1, 2, 1,\n",
       "        6, 1, 0, 0, 1, 1, 0, 1, 2, 1, 0, 1, 6, 0, 1, 1, 2, 1, 2, 8, 0, 3,\n",
       "        7, 1, 1, 1, 1, 1, 2, 0, 6, 5, 1, 1, 1, 2, 0, 5, 1, 2, 4, 2, 1, 1,\n",
       "        0, 0, 1, 2, 3, 5, 2, 4, 3, 0, 1, 3, 3, 4, 1, 1, 0, 2, 1, 0, 4, 2,\n",
       "        2, 4, 1, 4, 1, 5, 1, 1, 3, 4, 4, 1, 6, 3, 2, 8, 2, 2, 2, 0, 5, 4,\n",
       "        3, 1, 1, 2, 4, 7, 5, 1, 3, 1, 5, 1, 0, 0, 8, 3, 2, 2, 1, 2, 2, 1,\n",
       "        3, 3, 3, 0, 1, 2, 1, 1, 0, 4, 2, 0, 1, 3, 1, 3, 1, 0, 0, 4, 3, 0,\n",
       "        3, 7, 3, 0, 0, 1, 2, 0, 6, 2, 0, 3, 1, 7, 0, 4, 2, 0, 1, 4, 9, 7,\n",
       "        2, 2, 1, 2, 2, 2, 0, 1, 3, 6, 1, 2, 6, 3, 1, 5, 1, 7, 2, 4, 1, 2,\n",
       "        8, 2, 1, 0, 2, 2, 2, 3, 0, 3, 1, 7, 3, 3, 1, 0, 0, 2, 3, 4, 0, 2,\n",
       "        0, 3, 4, 1, 1, 1, 1, 1, 2, 6, 7, 3, 4, 5, 3, 4, 2, 4, 1, 1, 1, 0,\n",
       "        2, 4, 4, 4, 2, 1, 0, 0, 1, 5, 1, 4, 2, 2, 4, 2, 1, 1, 2, 4, 0, 1,\n",
       "        5, 0, 0, 0, 3, 2, 4, 7, 1, 1, 3, 0, 1, 6, 0, 2, 0, 7, 1, 1, 0, 4,\n",
       "        0, 1, 0, 1, 0, 3, 2, 2, 2, 8, 1, 0, 0, 3, 3, 1, 1, 0, 1, 0, 3, 3,\n",
       "        2, 0, 1, 3, 2, 1, 1, 1, 3, 4, 1, 0, 1, 1, 1, 3, 1, 3, 4, 5, 3, 2,\n",
       "        1, 5, 1, 1, 2, 2, 1, 2, 1, 5, 0, 1, 0, 2, 1, 0, 1, 2, 1, 0, 1, 5,\n",
       "        3, 1, 0, 7, 1, 1, 2, 1, 0, 0, 5, 1, 2, 1, 1, 1, 4, 1, 2, 4, 2, 3,\n",
       "        3, 2, 1, 0, 1, 2, 1, 1, 2, 1, 4, 3, 2, 1, 7, 1, 6, 0, 7, 0, 2, 2,\n",
       "        1, 2, 4, 3, 3, 6, 2, 1, 0, 4, 7, 1, 3, 9, 3, 2, 3, 0, 2, 3, 1, 2,\n",
       "        1, 4, 5, 2, 2, 4, 1, 1, 4, 1, 3, 2, 5, 1, 1, 1, 2, 2, 2, 1, 3, 1,\n",
       "        3, 3, 2, 3, 1, 1, 1, 4, 2, 4, 0, 1, 2, 1, 8, 4, 2, 3, 5, 7, 3, 3,\n",
       "        0, 5, 1, 2, 2, 4, 2, 1, 7, 2, 2, 4, 5, 2, 5, 5, 4, 4, 6, 3]),\n",
       " array([0., 1., 1., 0., 0., 0., 0., 0., 0., 0., 1., 0., 0., 0., 1., 0., 0.,\n",
       "        1., 0., 0., 1., 0., 1., 1., 0., 0., 0., 1., 1., 0., 0., 0., 0., 1.,\n",
       "        0., 1., 0., 0., 1., 0., 1., 0., 1., 0., 1., 0., 0., 0., 0., 0., 0.,\n",
       "        0., 0., 1., 0., 0., 1., 0., 0., 1., 0., 0., 1., 0., 1., 0., 0., 0.,\n",
       "        0., 0., 0., 1., 0., 0., 1., 0., 0., 0., 0., 0., 0., 0., 1., 1., 0.,\n",
       "        0., 0., 1., 1., 0., 0., 0., 0., 0., 0., 0., 1., 1., 0., 1., 0., 0.,\n",
       "        0., 1., 1., 0., 0., 1., 0., 1., 0., 0., 0., 0., 1., 1., 0., 1., 0.,\n",
       "        0., 0., 0., 1., 1., 0., 0., 0., 0., 0., 0., 0., 1., 0., 0., 0., 1.,\n",
       "        0., 1., 1., 1., 0., 1., 1., 0., 0., 1., 1., 1., 0., 1., 1., 0., 1.,\n",
       "        1., 0., 0., 0., 0., 1., 0., 0., 0., 1., 1., 1., 1., 0., 0., 1., 1.,\n",
       "        1., 1., 1., 0., 1., 0., 1., 0., 1., 0., 0., 1., 0., 1., 0., 1., 0.,\n",
       "        0., 0., 1., 1., 0., 1., 0., 0., 1., 1., 0., 0., 1., 1., 0., 0., 0.,\n",
       "        1., 0., 1., 1., 0., 0., 0., 1., 0., 1., 1., 0., 1., 1., 1., 1., 1.,\n",
       "        0., 0., 0., 0., 0., 0., 0., 1., 1., 1., 0., 1., 1., 0., 1., 1., 1.,\n",
       "        1., 0., 0., 1., 0., 0., 0., 0., 0., 0., 1., 0., 0., 1., 0., 1., 0.,\n",
       "        0., 1., 0., 0., 1., 1., 1., 0., 1., 0., 1., 0., 1., 0., 0., 0., 1.,\n",
       "        0., 1., 0., 1., 1., 1., 1., 1., 1., 1., 0., 0., 0., 0., 0., 1., 0.,\n",
       "        0., 0., 0., 0., 0., 1., 0., 0., 1., 1., 0., 1., 0., 1., 0., 0., 1.,\n",
       "        0., 0., 0., 0., 0., 0., 0., 0., 0., 1., 1., 1., 0., 0., 1., 1., 0.,\n",
       "        0., 0., 1., 0., 1., 0., 1., 0., 0., 0., 0., 0., 0., 1., 1., 0., 0.,\n",
       "        0., 0., 0., 1., 1., 0., 0., 0., 0., 0., 1., 1., 1., 0., 0., 0., 0.,\n",
       "        0., 1., 1., 1., 1., 0., 0., 0., 1., 0., 0., 0., 0., 1., 1., 1., 1.,\n",
       "        1., 1., 1., 0., 0., 0., 0., 0., 1., 1., 0., 0., 0., 0., 0., 0., 0.,\n",
       "        0., 0., 0., 1., 0., 1., 0., 0., 1., 1., 0., 1., 0., 0., 0., 1., 0.,\n",
       "        1., 0., 0., 0., 1., 0., 1., 1., 1., 0., 1., 0., 0., 0., 0., 1., 0.,\n",
       "        1., 1., 0., 1., 1., 1., 1., 1., 1., 1., 0., 1., 0., 0., 0., 1., 0.,\n",
       "        1., 1., 0., 1., 0., 1., 0., 1., 1., 0., 1., 1., 1., 0., 0., 0., 1.,\n",
       "        0., 1., 1., 0., 1., 1., 0., 0., 0., 1., 1., 1., 0., 1., 0., 1., 1.,\n",
       "        0., 0., 0., 0., 0., 1., 1., 0., 0., 1., 0., 1., 1., 1., 1., 0., 1.,\n",
       "        0., 0., 0., 0., 0., 1., 0., 1., 1., 1., 0., 0., 0., 0., 1., 1., 1.,\n",
       "        1., 0., 0., 0., 1., 0., 0., 1., 0., 0., 0., 0., 1., 0., 0., 1.],\n",
       "       dtype=float32))"
      ]
     },
     "execution_count": 12,
     "metadata": {},
     "output_type": "execute_result"
    }
   ],
   "source": [
    "y_train"
   ]
  },
  {
   "cell_type": "code",
   "execution_count": 13,
   "metadata": {},
   "outputs": [
    {
     "data": {
      "text/plain": [
       "array([ 2.89108187, 14.45540936,  5.78216374,  0.        ,  5.78216374,\n",
       "        2.89108187,  5.78216374,  5.78216374, 14.45540936, 11.56432748,\n",
       "       11.56432748,  2.89108187,  0.        ,  2.89108187, 17.34649123,\n",
       "        5.78216374, 20.2375731 , 14.45540936,  0.        ,  5.78216374,\n",
       "        5.78216374, 11.56432748,  5.78216374,  2.89108187, 17.34649123,\n",
       "        0.        ,  2.89108187,  5.78216374, 14.45540936,  5.78216374,\n",
       "       17.34649123,  5.78216374,  5.78216374,  2.89108187, 14.45540936,\n",
       "       14.45540936,  2.89108187,  2.89108187,  2.89108187,  0.        ,\n",
       "       14.45540936,  5.78216374,  2.89108187,  8.67324561, 23.12865497,\n",
       "        5.78216374,  8.67324561,  8.67324561,  0.        ,  2.89108187,\n",
       "       11.56432748, 26.01973684,  2.89108187, 11.56432748,  5.78216374,\n",
       "       11.56432748, 14.45540936,  2.89108187,  5.78216374,  2.89108187,\n",
       "        5.78216374,  2.89108187,  8.67324561,  2.89108187,  5.78216374,\n",
       "        2.89108187, 17.34649123,  2.89108187,  0.        ,  0.        ,\n",
       "        2.89108187,  2.89108187,  0.        ,  2.89108187,  5.78216374,\n",
       "        2.89108187,  0.        ,  2.89108187, 17.34649123,  0.        ,\n",
       "        2.89108187,  2.89108187,  5.78216374,  2.89108187,  5.78216374,\n",
       "       23.12865497,  0.        ,  8.67324561, 20.2375731 ,  2.89108187,\n",
       "        2.89108187,  2.89108187,  2.89108187,  2.89108187,  5.78216374,\n",
       "        0.        , 17.34649123, 14.45540936,  2.89108187,  2.89108187,\n",
       "        2.89108187,  5.78216374,  0.        , 14.45540936,  2.89108187,\n",
       "        5.78216374, 11.56432748,  5.78216374,  2.89108187,  2.89108187,\n",
       "        0.        ,  0.        ,  2.89108187,  5.78216374,  8.67324561,\n",
       "       14.45540936,  5.78216374, 11.56432748,  8.67324561,  0.        ,\n",
       "        2.89108187,  8.67324561,  8.67324561, 11.56432748,  2.89108187,\n",
       "        2.89108187,  0.        ,  5.78216374,  2.89108187,  0.        ,\n",
       "       11.56432748,  5.78216374,  5.78216374, 11.56432748,  2.89108187,\n",
       "       11.56432748,  2.89108187, 14.45540936,  2.89108187,  2.89108187,\n",
       "        8.67324561, 11.56432748, 11.56432748,  2.89108187, 17.34649123,\n",
       "        8.67324561,  5.78216374, 23.12865497,  5.78216374,  5.78216374,\n",
       "        5.78216374,  0.        , 14.45540936, 11.56432748,  8.67324561,\n",
       "        2.89108187,  2.89108187,  5.78216374, 11.56432748, 20.2375731 ,\n",
       "       14.45540936,  2.89108187,  8.67324561,  2.89108187, 14.45540936,\n",
       "        2.89108187,  0.        ,  0.        , 23.12865497,  8.67324561,\n",
       "        5.78216374,  5.78216374,  2.89108187,  5.78216374,  5.78216374,\n",
       "        2.89108187,  8.67324561,  8.67324561,  8.67324561,  0.        ,\n",
       "        2.89108187,  5.78216374,  2.89108187,  2.89108187,  0.        ,\n",
       "       11.56432748,  5.78216374,  0.        ,  2.89108187,  8.67324561,\n",
       "        2.89108187,  8.67324561,  2.89108187,  0.        ,  0.        ,\n",
       "       11.56432748,  8.67324561,  0.        ,  8.67324561, 20.2375731 ,\n",
       "        8.67324561,  0.        ,  0.        ,  2.89108187,  5.78216374,\n",
       "        0.        , 17.34649123,  5.78216374,  0.        ,  8.67324561,\n",
       "        2.89108187, 20.2375731 ,  0.        , 11.56432748,  5.78216374,\n",
       "        0.        ,  2.89108187, 11.56432748, 26.01973684, 20.2375731 ,\n",
       "        5.78216374,  5.78216374,  2.89108187,  5.78216374,  5.78216374,\n",
       "        5.78216374,  0.        ,  2.89108187,  8.67324561, 17.34649123,\n",
       "        2.89108187,  5.78216374, 17.34649123,  8.67324561,  2.89108187,\n",
       "       14.45540936,  2.89108187, 20.2375731 ,  5.78216374, 11.56432748,\n",
       "        2.89108187,  5.78216374, 23.12865497,  5.78216374,  2.89108187,\n",
       "        0.        ,  5.78216374,  5.78216374,  5.78216374,  8.67324561,\n",
       "        0.        ,  8.67324561,  2.89108187, 20.2375731 ,  8.67324561,\n",
       "        8.67324561,  2.89108187,  0.        ,  0.        ,  5.78216374,\n",
       "        8.67324561, 11.56432748,  0.        ,  5.78216374,  0.        ,\n",
       "        8.67324561, 11.56432748,  2.89108187,  2.89108187,  2.89108187,\n",
       "        2.89108187,  2.89108187,  5.78216374, 17.34649123, 20.2375731 ,\n",
       "        8.67324561, 11.56432748, 14.45540936,  8.67324561, 11.56432748,\n",
       "        5.78216374, 11.56432748,  2.89108187,  2.89108187,  2.89108187,\n",
       "        0.        ,  5.78216374, 11.56432748, 11.56432748, 11.56432748,\n",
       "        5.78216374,  2.89108187,  0.        ,  0.        ,  2.89108187,\n",
       "       14.45540936,  2.89108187, 11.56432748,  5.78216374,  5.78216374,\n",
       "       11.56432748,  5.78216374,  2.89108187,  2.89108187,  5.78216374,\n",
       "       11.56432748,  0.        ,  2.89108187, 14.45540936,  0.        ,\n",
       "        0.        ,  0.        ,  8.67324561,  5.78216374, 11.56432748,\n",
       "       20.2375731 ,  2.89108187,  2.89108187,  8.67324561,  0.        ,\n",
       "        2.89108187, 17.34649123,  0.        ,  5.78216374,  0.        ,\n",
       "       20.2375731 ,  2.89108187,  2.89108187,  0.        , 11.56432748,\n",
       "        0.        ,  2.89108187,  0.        ,  2.89108187,  0.        ,\n",
       "        8.67324561,  5.78216374,  5.78216374,  5.78216374, 23.12865497,\n",
       "        2.89108187,  0.        ,  0.        ,  8.67324561,  8.67324561,\n",
       "        2.89108187,  2.89108187,  0.        ,  2.89108187,  0.        ,\n",
       "        8.67324561,  8.67324561,  5.78216374,  0.        ,  2.89108187,\n",
       "        8.67324561,  5.78216374,  2.89108187,  2.89108187,  2.89108187,\n",
       "        8.67324561, 11.56432748,  2.89108187,  0.        ,  2.89108187,\n",
       "        2.89108187,  2.89108187,  8.67324561,  2.89108187,  8.67324561,\n",
       "       11.56432748, 14.45540936,  8.67324561,  5.78216374,  2.89108187,\n",
       "       14.45540936,  2.89108187,  2.89108187,  5.78216374,  5.78216374,\n",
       "        2.89108187,  5.78216374,  2.89108187, 14.45540936,  0.        ,\n",
       "        2.89108187,  0.        ,  5.78216374,  2.89108187,  0.        ,\n",
       "        2.89108187,  5.78216374,  2.89108187,  0.        ,  2.89108187,\n",
       "       14.45540936,  8.67324561,  2.89108187,  0.        , 20.2375731 ,\n",
       "        2.89108187,  2.89108187,  5.78216374,  2.89108187,  0.        ,\n",
       "        0.        , 14.45540936,  2.89108187,  5.78216374,  2.89108187,\n",
       "        2.89108187,  2.89108187, 11.56432748,  2.89108187,  5.78216374,\n",
       "       11.56432748,  5.78216374,  8.67324561,  8.67324561,  5.78216374,\n",
       "        2.89108187,  0.        ,  2.89108187,  5.78216374,  2.89108187,\n",
       "        2.89108187,  5.78216374,  2.89108187, 11.56432748,  8.67324561,\n",
       "        5.78216374,  2.89108187, 20.2375731 ,  2.89108187, 17.34649123,\n",
       "        0.        , 20.2375731 ,  0.        ,  5.78216374,  5.78216374,\n",
       "        2.89108187,  5.78216374, 11.56432748,  8.67324561,  8.67324561,\n",
       "       17.34649123,  5.78216374,  2.89108187,  0.        , 11.56432748,\n",
       "       20.2375731 ,  2.89108187,  8.67324561, 26.01973684,  8.67324561,\n",
       "        5.78216374,  8.67324561,  0.        ,  5.78216374,  8.67324561,\n",
       "        2.89108187,  5.78216374,  2.89108187, 11.56432748, 14.45540936,\n",
       "        5.78216374,  5.78216374, 11.56432748,  2.89108187,  2.89108187,\n",
       "       11.56432748,  2.89108187,  8.67324561,  5.78216374, 14.45540936,\n",
       "        2.89108187,  2.89108187,  2.89108187,  5.78216374,  5.78216374,\n",
       "        5.78216374,  2.89108187,  8.67324561,  2.89108187,  8.67324561,\n",
       "        8.67324561,  5.78216374,  8.67324561,  2.89108187,  2.89108187,\n",
       "        2.89108187, 11.56432748,  5.78216374, 11.56432748,  0.        ,\n",
       "        2.89108187,  5.78216374,  2.89108187, 23.12865497, 11.56432748,\n",
       "        5.78216374,  8.67324561, 14.45540936, 20.2375731 ,  8.67324561,\n",
       "        8.67324561,  0.        , 14.45540936,  2.89108187,  5.78216374,\n",
       "        5.78216374, 11.56432748,  5.78216374,  2.89108187, 20.2375731 ,\n",
       "        5.78216374,  5.78216374, 11.56432748, 14.45540936,  5.78216374,\n",
       "       14.45540936, 14.45540936, 11.56432748, 11.56432748, 17.34649123,\n",
       "        8.67324561])"
      ]
     },
     "execution_count": 13,
     "metadata": {},
     "output_type": "execute_result"
    }
   ],
   "source": [
    "labtrans.cuts[y_train[0]]"
   ]
  },
  {
   "cell_type": "markdown",
   "metadata": {},
   "source": [
    "## Neural net\n",
    "\n",
    "We make a neural net with `torch`.\n",
    "For simple network structures, we can use the `MLPVanilla` provided by `torchtuples`.\n",
    "For building more advanced network architectures, see for example [the tutorials by PyTroch](https://pytorch.org/tutorials/).\n",
    "\n",
    "The following net is an MLP with two hidden layers (with 32 nodes each), ReLU activations, and `out_features` output nodes.\n",
    "We also have batch normalization and dropout between the layers."
   ]
  },
  {
   "cell_type": "code",
   "execution_count": 14,
   "metadata": {},
   "outputs": [],
   "source": [
    "in_features = x_train.shape[1]\n",
    "num_nodes = [32, 32]\n",
    "out_features = labtrans.out_features\n",
    "batch_norm = True\n",
    "dropout = 0.1\n",
    "\n",
    "net = tt.practical.MLPVanilla(in_features, num_nodes, out_features, batch_norm, dropout)"
   ]
  },
  {
   "cell_type": "markdown",
   "metadata": {},
   "source": [
    "If you instead want to build this network with `torch` you can uncomment the following code.\n",
    "It is essentially equivalent to the `MLPVanilla`, but without the `torch.nn.init.kaiming_normal_` weight initialization."
   ]
  },
  {
   "cell_type": "code",
   "execution_count": 15,
   "metadata": {},
   "outputs": [],
   "source": [
    "# net = torch.nn.Sequential(\n",
    "#     torch.nn.Linear(in_features, 32),\n",
    "#     torch.nn.ReLU(),\n",
    "#     torch.nn.BatchNorm1d(32),\n",
    "#     torch.nn.Dropout(0.1),\n",
    "    \n",
    "#     torch.nn.Linear(32, 32),\n",
    "#     torch.nn.ReLU(),\n",
    "#     torch.nn.BatchNorm1d(32),\n",
    "#     torch.nn.Dropout(0.1),\n",
    "    \n",
    "#     torch.nn.Linear(32, out_features)\n",
    "# )"
   ]
  },
  {
   "cell_type": "markdown",
   "metadata": {},
   "source": [
    "## Training the model\n",
    "\n",
    "To train the model we need to define an optimizer. You can choose any `torch.optim` optimizer, or use one from `tt.optim`.\n",
    "The latter is built on top of the `torch` optimizers, but with some added functionality (such as not requiring `net.parameters()` as input and the `model.lr_finder` for finding suitable learning rates).\n",
    "We will here use the `Adam` optimizer with learning rate 0.01.\n",
    "\n",
    "We also set `duration_index` which connects the output nodes of the network the the discretization times. This is only useful for prediction and does not affect the training procedure.\n",
    "\n",
    "The `LogisticHazard` can also take the argument `device` which can be use to choose between running on the CPU and GPU. The default behavior is to run on a GPU if it is available, and CPU if not.\n",
    "See `?LogisticHazard` for details."
   ]
  },
  {
   "cell_type": "code",
   "execution_count": 16,
   "metadata": {},
   "outputs": [],
   "source": [
    "model = LogisticHazard(net, tt.optim.Adam(0.01), duration_index=labtrans.cuts)\n",
    "# model = PMF(net, tt.optim.Adam(0.01), duration_index=labtrans.cuts)\n",
    "# model = DeepHitSingle(net, tt.optim.Adam(0.01), duration_index=labtrans.cuts)"
   ]
  },
  {
   "cell_type": "markdown",
   "metadata": {},
   "source": [
    "Next, we set the `batch_size` and the number of training `epochs`.\n",
    "\n",
    "We also include the `EarlyStopping` callback to stop training when the validation loss stops improving."
   ]
  },
  {
   "cell_type": "code",
   "execution_count": 17,
   "metadata": {},
   "outputs": [],
   "source": [
    "batch_size = 256\n",
    "epochs = 100\n",
    "callbacks = [tt.cb.EarlyStopping()]"
   ]
  },
  {
   "cell_type": "markdown",
   "metadata": {},
   "source": [
    "We can now train the network and the `log` object keeps track of the training progress."
   ]
  },
  {
   "cell_type": "code",
   "execution_count": 18,
   "metadata": {},
   "outputs": [
    {
     "name": "stdout",
     "output_type": "stream",
     "text": [
      "0:\t[0s / 0s],\t\ttrain_loss: 2.1966,\tval_loss: 2.0736\n",
      "1:\t[0s / 0s],\t\ttrain_loss: 2.1951,\tval_loss: 1.9617\n",
      "2:\t[0s / 0s],\t\ttrain_loss: 2.0264,\tval_loss: 1.9500\n",
      "3:\t[0s / 0s],\t\ttrain_loss: 1.9563,\tval_loss: 1.8176\n",
      "4:\t[0s / 0s],\t\ttrain_loss: 1.7440,\tval_loss: 1.6098\n",
      "5:\t[0s / 0s],\t\ttrain_loss: 1.5547,\tval_loss: 1.4574\n",
      "6:\t[0s / 0s],\t\ttrain_loss: 1.4653,\tval_loss: 1.2933\n",
      "7:\t[0s / 0s],\t\ttrain_loss: 1.3830,\tval_loss: 1.1789\n",
      "8:\t[0s / 0s],\t\ttrain_loss: 1.2897,\tval_loss: 1.0794\n",
      "9:\t[0s / 0s],\t\ttrain_loss: 1.1375,\tval_loss: 1.0027\n",
      "10:\t[0s / 0s],\t\ttrain_loss: 1.0247,\tval_loss: 0.9654\n",
      "11:\t[0s / 0s],\t\ttrain_loss: 0.8736,\tval_loss: 0.9426\n",
      "12:\t[0s / 0s],\t\ttrain_loss: 0.9367,\tval_loss: 0.9370\n",
      "13:\t[0s / 0s],\t\ttrain_loss: 0.8627,\tval_loss: 0.9481\n",
      "14:\t[0s / 0s],\t\ttrain_loss: 0.9526,\tval_loss: 0.9581\n",
      "15:\t[0s / 0s],\t\ttrain_loss: 0.8576,\tval_loss: 0.9647\n",
      "16:\t[0s / 0s],\t\ttrain_loss: 0.7642,\tval_loss: 0.9748\n",
      "17:\t[0s / 0s],\t\ttrain_loss: 0.8617,\tval_loss: 1.0067\n",
      "18:\t[0s / 0s],\t\ttrain_loss: 0.8178,\tval_loss: 1.0301\n",
      "19:\t[0s / 0s],\t\ttrain_loss: 0.7553,\tval_loss: 1.0251\n",
      "20:\t[0s / 0s],\t\ttrain_loss: 0.7431,\tval_loss: 1.0200\n",
      "21:\t[0s / 0s],\t\ttrain_loss: 0.7453,\tval_loss: 1.0184\n",
      "22:\t[0s / 0s],\t\ttrain_loss: 0.7253,\tval_loss: 1.0140\n"
     ]
    }
   ],
   "source": [
    "log = model.fit(x_train, y_train, batch_size, epochs, callbacks, val_data=val)"
   ]
  },
  {
   "cell_type": "code",
   "execution_count": 19,
   "metadata": {},
   "outputs": [
    {
     "data": {
      "image/png": "[encoded data removed]",
      "text/plain": [
       "<Figure size 640x480 with 1 Axes>"
      ]
     },
     "metadata": {},
     "output_type": "display_data"
    }
   ],
   "source": [
    "_ = log.plot()"
   ]
  },
  {
   "cell_type": "markdown",
   "metadata": {},
   "source": [
    "After termination, the `EarlyStopping` callback loads the best performing model (in terms of validation loss).\n",
    "We can verify this by comparing the minimum validation loss to the validation score of the trained `model`."
   ]
  },
  {
   "cell_type": "code",
   "execution_count": 20,
   "metadata": {},
   "outputs": [
    {
     "data": {
      "text/plain": [
       "0.9370402693748474"
      ]
     },
     "execution_count": 20,
     "metadata": {},
     "output_type": "execute_result"
    }
   ],
   "source": [
    "log.to_pandas().val_loss.min()"
   ]
  },
  {
   "cell_type": "code",
   "execution_count": 21,
   "metadata": {},
   "outputs": [
    {
     "data": {
      "text/plain": [
       "{'loss': 0.9370402693748474}"
      ]
     },
     "execution_count": 21,
     "metadata": {},
     "output_type": "execute_result"
    }
   ],
   "source": [
    "model.score_in_batches(val)"
   ]
  },
  {
   "cell_type": "markdown",
   "metadata": {},
   "source": [
    "## Prediction\n",
    "\n",
    "For evaluation we first need to obtain survival estimates for the test set.\n",
    "This can be done with `model.predict_surv` which returns an array of survival estimates, or with `model.predict_surv_df` which returns the survival estimates as a dataframe."
   ]
  },
  {
   "cell_type": "code",
   "execution_count": 22,
   "metadata": {},
   "outputs": [],
   "source": [
    "surv = model.predict_surv_df(x_test)"
   ]
  },
  {
   "cell_type": "markdown",
   "metadata": {},
   "source": [
    "We can plot the survival estimates for the first 5 individuals.\n",
    "Note that the time scale is correct because we have set `model.duration_index` to be the grid points.\n",
    "We have, however, only defined the survival estimates at the 10 times in our discretization grid, so, the survival estimates is a step function"
   ]
  },
  {
   "cell_type": "code",
   "execution_count": 23,
   "metadata": {},
   "outputs": [
    {
     "data": {
      "image/png": "[encoded data removed]",
      "text/plain": [
       "<Figure size 640x480 with 1 Axes>"
      ]
     },
     "metadata": {},
     "output_type": "display_data"
    }
   ],
   "source": [
    "surv.iloc[:, :5].plot(drawstyle='steps-post')\n",
    "plt.ylabel('S(t | x)')\n",
    "_ = plt.xlabel('Time')"
   ]
  },
  {
   "cell_type": "markdown",
   "metadata": {},
   "source": [
    "It is, therefore, often beneficial to [interpolate the survival estimates](https://arxiv.org/abs/1910.06724).\n",
    "Linear interpolation (constant density interpolation) can be performed with the `interpolate` method. We also need to choose how many points we want to replace each grid point with. Her we will use 10."
   ]
  },
  {
   "cell_type": "code",
   "execution_count": 24,
   "metadata": {},
   "outputs": [],
   "source": [
    "surv = model.interpolate(10).predict_surv_df(x_test)"
   ]
  },
  {
   "cell_type": "code",
   "execution_count": 25,
   "metadata": {},
   "outputs": [
    {
     "data": {
      "image/png": "[encoded data removed]",
      "text/plain": [
       "<Figure size 640x480 with 1 Axes>"
      ]
     },
     "metadata": {},
     "output_type": "display_data"
    }
   ],
   "source": [
    "surv.iloc[:, :5].plot(drawstyle='steps-post')\n",
    "plt.ylabel('S(t | x)')\n",
    "_ = plt.xlabel('Time')"
   ]
  },
  {
   "cell_type": "markdown",
   "metadata": {},
   "source": [
    "## Evaluation\n",
    "\n",
    "The `EvalSurv` class contains some useful evaluation criteria for time-to-event prediction.\n",
    "We set `censor_surv = 'km'` to state that we want to use Kaplan-Meier for estimating the censoring distribution.\n"
   ]
  },
  {
   "cell_type": "code",
   "execution_count": 26,
   "metadata": {},
   "outputs": [],
   "source": [
    "ev = EvalSurv(surv, durations_test, events_test, censor_surv='km')"
   ]
  },
  {
   "cell_type": "markdown",
   "metadata": {},
   "source": [
    "#### Concordance\n",
    "\n",
    "We start with the event-time concordance by [Antolini et al. 2005](https://onlinelibrary.wiley.com/doi/10.1002/sim.2427)."
   ]
  },
  {
   "cell_type": "code",
   "execution_count": 27,
   "metadata": {},
   "outputs": [
    {
     "data": {
      "text/plain": [
       "0.5251083815028902"
      ]
     },
     "execution_count": 27,
     "metadata": {},
     "output_type": "execute_result"
    }
   ],
   "source": [
    "ev.concordance_td('antolini')"
   ]
  },
  {
   "cell_type": "markdown",
   "metadata": {},
   "source": [
    "#### Brier Score\n",
    "\n",
    "We can plot the the [IPCW Brier score](https://onlinelibrary.wiley.com/doi/abs/10.1002/%28SICI%291097-0258%2819990915/30%2918%3A17/18%3C2529%3A%3AAID-SIM274%3E3.0.CO%3B2-5) for a given set of times.\n",
    "Here we just use 100 time-points between the min and max duration in the test set.\n",
    "Note that the score becomes unstable for the highest times. It is therefore common to disregard the rightmost part of the graph."
   ]
  },
  {
   "cell_type": "code",
   "execution_count": 28,
   "metadata": {},
   "outputs": [
    {
     "data": {
      "image/png": "[encoded data removed]",
      "text/plain": [
       "<Figure size 640x480 with 1 Axes>"
      ]
     },
     "metadata": {},
     "output_type": "display_data"
    }
   ],
   "source": [
    "time_grid = np.linspace(durations_test.min(), durations_test.max(), 100)\n",
    "ev.brier_score(time_grid).plot()\n",
    "plt.ylabel('Brier score')\n",
    "_ = plt.xlabel('Time')"
   ]
  },
  {
   "cell_type": "markdown",
   "metadata": {},
   "source": [
    "#### Negative binomial log-likelihood\n",
    "\n",
    "In a similar manner, we can plot the the [IPCW negative binomial log-likelihood](https://onlinelibrary.wiley.com/doi/abs/10.1002/%28SICI%291097-0258%2819990915/30%2918%3A17/18%3C2529%3A%3AAID-SIM274%3E3.0.CO%3B2-5)."
   ]
  },
  {
   "cell_type": "code",
   "execution_count": 29,
   "metadata": {},
   "outputs": [
    {
     "data": {
      "image/png": "[encoded data removed]",
      "text/plain": [
       "<Figure size 640x480 with 1 Axes>"
      ]
     },
     "metadata": {},
     "output_type": "display_data"
    }
   ],
   "source": [
    "ev.nbll(time_grid).plot()\n",
    "plt.ylabel('NBLL')\n",
    "_ = plt.xlabel('Time')"
   ]
  },
  {
   "cell_type": "markdown",
   "metadata": {},
   "source": [
    "#### Integrated scores\n",
    "\n",
    "The two time-dependent scores above can be integrated over time to produce a single score [Graf et al. 1999](https://onlinelibrary.wiley.com/doi/abs/10.1002/%28SICI%291097-0258%2819990915/30%2918%3A17/18%3C2529%3A%3AAID-SIM274%3E3.0.CO%3B2-5). In practice this is done by numerical integration over a defined `time_grid`."
   ]
  },
  {
   "cell_type": "code",
   "execution_count": 30,
   "metadata": {},
   "outputs": [
    {
     "data": {
      "text/plain": [
       "0.16841126271274806"
      ]
     },
     "execution_count": 30,
     "metadata": {},
     "output_type": "execute_result"
    }
   ],
   "source": [
    "ev.integrated_brier_score(time_grid) "
   ]
  },
  {
   "cell_type": "code",
   "execution_count": 31,
   "metadata": {},
   "outputs": [
    {
     "data": {
      "text/plain": [
       "0.5200240573382021"
      ]
     },
     "execution_count": 31,
     "metadata": {},
     "output_type": "execute_result"
    }
   ],
   "source": [
    "ev.integrated_nbll(time_grid) "
   ]
  },
  {
   "cell_type": "markdown",
   "metadata": {},
   "source": [
    "# Next\n",
    "\n",
    "You can now look at other examples of survival methods in the [examples folder](https://nbviewer.jupyter.org/github/havakv/pycox/tree/master/examples).\n",
    "Or, alternatively take a look at\n",
    "\n",
    "- the more advanced training procedures in the notebook [02_introduction.ipynb](https://nbviewer.jupyter.org/github/havakv/pycox/blob/master/examples/02_introduction.ipynb).\n",
    "- other network architectures that combine autoencoders and survival networks in the notebook [03_network_architectures.ipynb](https://nbviewer.jupyter.org/github/havakv/pycox/blob/master/examples/03_network_architectures.ipynb).\n",
    "- working with DataLoaders and convolutional networks in the notebook [04_mnist_dataloaders_cnn.ipynb](https://nbviewer.jupyter.org/github/havakv/pycox/blob/master/examples/04_mnist_dataloaders_cnn.ipynb)."
   ]
  },
  {
   "cell_type": "code",
   "execution_count": null,
   "metadata": {},
   "outputs": [],
   "source": []
  }
 ],
 "metadata": {
  "kernelspec": {
   "display_name": "Python 3",
   "language": "python",
   "name": "python3"
  },
  "language_info": {
   "codemirror_mode": {
    "name": "ipython",
    "version": 3
   },
   "file_extension": ".py",
   "mimetype": "text/x-python",
   "name": "python",
   "nbconvert_exporter": "python",
   "pygments_lexer": "ipython3",
   "version": "3.11.7"
  }
 },
 "nbformat": 4,
 "nbformat_minor": 4
}
