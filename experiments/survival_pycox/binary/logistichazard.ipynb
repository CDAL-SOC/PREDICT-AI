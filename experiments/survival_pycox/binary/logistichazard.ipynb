{
 "cells": [
  {
   "cell_type": "markdown",
   "metadata": {},
   "source": [
    "# Introduction to the pycox package\n",
    "\n",
    "\n",
    "In this notebook we introduce the use of `pycox` through an example dataset.\n",
    "We illustrate the procedure with the `LogisticHazard` method ([paper_link](https://arxiv.org/abs/1910.06724)), but we this can easily be replaced by for example `PMF`, `MTLR` or `DeepHitSingle`.\n",
    "\n",
    "In the following we will:\n",
    "\n",
    "- Load the METABRIC survival dataset.\n",
    "- Process the event labels so the they work with our methods.\n",
    "- Create a [PyTorch](https://pytorch.org) neural network.\n",
    "- Fit the model.\n",
    "- Evaluate the predictive performance using the concordance, Brier score, and negative binomial log-likelihood.\n",
    "\n",
    "While some knowledge of the [PyTorch](https://pytorch.org) framework is preferable, it is not required for the use of simple neural networks.\n",
    "For building more advanced network architectures, however, we would recommend looking at [the PyTorch tutorials](https://pytorch.org/tutorials/)."
   ]
  },
  {
   "cell_type": "markdown",
   "metadata": {},
   "source": [
    "## Imports\n",
    "\n",
    "You need `sklearn-pandas` which can be installed by uncommenting the following block"
   ]
  },
  {
   "cell_type": "code",
   "execution_count": 1,
   "metadata": {},
   "outputs": [],
   "source": [
    "# ! pip install sklearn-pandas"
   ]
  },
  {
   "cell_type": "code",
   "execution_count": 2,
   "metadata": {},
   "outputs": [],
   "source": [
    "import numpy as np\n",
    "import pandas as pd\n",
    "import matplotlib.pyplot as plt\n",
    "\n",
    "# For preprocessing\n",
    "from sklearn.preprocessing import StandardScaler\n",
    "from sklearn.model_selection import train_test_split\n",
    "from sklearn_pandas import DataFrameMapper"
   ]
  },
  {
   "cell_type": "markdown",
   "metadata": {},
   "source": [
    "`pycox` is built on top of [PyTorch](https://pytorch.org) and [torchtuples](https://github.com/havakv/torchtuples), where the latter is just a simple way of training neural nets with less boilerplate code."
   ]
  },
  {
   "cell_type": "code",
   "execution_count": 3,
   "metadata": {},
   "outputs": [],
   "source": [
    "import torch # For building the networks \n",
    "import torchtuples as tt # Some useful functions"
   ]
  },
  {
   "cell_type": "markdown",
   "metadata": {},
   "source": [
    "We import the `metabric` dataset, the `LogisticHazard` method ([paper_link](https://arxiv.org/abs/1910.06724)) also known as [Nnet-survival](https://peerj.com/articles/6257/), and `EvalSurv` which simplifies the evaluation procedure at the end.\n",
    "\n",
    "You can alternatively replace `LogisticHazard` with, for example, `PMF` or `DeepHitSingle`, which should both work in this notebook."
   ]
  },
  {
   "cell_type": "code",
   "execution_count": 4,
   "metadata": {},
   "outputs": [],
   "source": [
    "from pycox.datasets import metabric\n",
    "from pycox.models import LogisticHazard\n",
    "# from pycox.models import PMF\n",
    "# from pycox.models import DeepHitSingle\n",
    "from pycox.evaluation import EvalSurv"
   ]
  },
  {
   "cell_type": "code",
   "execution_count": 5,
   "metadata": {},
   "outputs": [],
   "source": [
    "# We also set some seeds to make this reproducable.\n",
    "# Note that on gpu, there is still some randomness.\n",
    "np.random.seed(42)\n",
    "_ = torch.manual_seed(42)"
   ]
  },
  {
   "cell_type": "markdown",
   "metadata": {},
   "source": [
    "## Dataset\n",
    "\n",
    "We load the METABRIC data set as a pandas DataFrame and split the data in in train, test and validation.\n",
    "\n",
    "The `duration` column gives the observed times and the `event` column contains indicators of whether the observation is an event (1) or a censored observation (0)."
   ]
  },
  {
   "cell_type": "code",
   "execution_count": 6,
   "metadata": {},
   "outputs": [],
   "source": [
    "# df_train = metabric.read_df()\n",
    "# df_test = df_train.sample(frac=0.2)\n",
    "# df_train = df_train.drop(df_test.index)\n",
    "# df_val = df_train.sample(frac=0.2)\n",
    "# df_train = df_train.drop(df_val.index)\n",
    "\n",
    "crc_x, crc_surv = np.load(\"../../data/crc_bin.npy\"), pd.read_csv(\n",
    "    \"../../data/crc_surv.csv\"\n",
    ").rename(columns={\"tt_pfs_m_g_mos\": \"duration\", \"pfs_m_g_status\": \"event\"})\n",
    "nsclc_x, nsclc_surv = np.load(\"../../data/nsclc_bin.npy\"), pd.read_csv(\n",
    "    \"../../data/nsclc_surv.csv\"\n",
    ").rename(columns={\"tt_pfs_m_g_mos\": \"duration\", \"pfs_m_g_status\": \"event\"})\n",
    "\n",
    "x = np.concatenate(\n",
    "    (\n",
    "        crc_x,\n",
    "        # nsclc_x,\n",
    "    ),\n",
    "    axis=0,\n",
    ").astype(\"float32\")\n",
    "surv = pd.concat(\n",
    "    [\n",
    "        crc_surv,\n",
    "        # nsclc_surv,\n",
    "    ],\n",
    "    axis=0,\n",
    ")\n",
    "\n",
    "x_train, x_test, surv_train, surv_test = train_test_split(x, surv, test_size=0.2)\n",
    "x_train, x_val, surv_train, surv_val = train_test_split(\n",
    "    x_train, surv_train, test_size=0.2\n",
    ")"
   ]
  },
  {
   "cell_type": "markdown",
   "metadata": {},
   "source": [
    "## Feature transforms\n",
    "\n",
    "The METABRIC dataset has  9 covariates: `x0, ..., x8`.\n",
    "We will standardize the 5 numerical covariates, and leave the binary covariates as is.\n",
    "Note that PyTorch require variables of type `'float32'`.\n",
    "\n",
    "Here we use the `sklearn_pandas.DataFrameMapper` to make feature mappers, but this has nothing to do the the `pycox` package."
   ]
  },
  {
   "cell_type": "code",
   "execution_count": 7,
   "metadata": {},
   "outputs": [],
   "source": [
    "# cols_standardize = ['x0', 'x1', 'x2', 'x3', 'x8']\n",
    "# cols_leave = ['x4', 'x5', 'x6', 'x7']\n",
    "\n",
    "# standardize = [([col], StandardScaler()) for col in cols_standardize]\n",
    "# leave = [(col, None) for col in cols_leave]\n",
    "\n",
    "# x_mapper = DataFrameMapper(standardize + leave)"
   ]
  },
  {
   "cell_type": "code",
   "execution_count": 8,
   "metadata": {},
   "outputs": [],
   "source": [
    "# x_train = x_mapper.fit_transform(df_train).astype('float32')\n",
    "# x_val = x_mapper.transform(df_val).astype('float32')\n",
    "# x_test = x_mapper.transform(df_test).astype('float32')"
   ]
  },
  {
   "cell_type": "markdown",
   "metadata": {},
   "source": [
    "## Label transforms\n",
    "\n",
    "The survival methods require individual label transforms, so we have included a proposed `label_transform` for each method.\n",
    "For most of them the `label_transform` is just a shorthand for the class `pycox.preprocessing.label_transforms.LabTransDiscreteTime`.\n",
    "\n",
    "The `LogisticHazard` is a discrete-time method, meaning it requires discretization of the event times to be applied to continuous-time data.\n",
    "We let `num_durations` define the size of this (equidistant) discretization grid, meaning our network will have `num_durations` output nodes."
   ]
  },
  {
   "cell_type": "code",
   "execution_count": 9,
   "metadata": {},
   "outputs": [],
   "source": [
    "num_durations = 10\n",
    "\n",
    "labtrans = LogisticHazard.label_transform(num_durations)\n",
    "# labtrans = PMF.label_transform(num_durations)\n",
    "# labtrans = DeepHitSingle.label_transform(num_durations)\n",
    "\n",
    "get_target = lambda df: (df['duration'].values, df['event'].values)\n",
    "y_train = labtrans.fit_transform(*get_target(surv_train))\n",
    "y_val = labtrans.transform(*get_target(surv_val))\n",
    "\n",
    "train = (x_train, y_train)\n",
    "val = (x_val, y_val)\n",
    "\n",
    "# We don't need to transform the test labels\n",
    "durations_test, events_test = get_target(surv_test)"
   ]
  },
  {
   "cell_type": "code",
   "execution_count": 10,
   "metadata": {},
   "outputs": [
    {
     "data": {
      "text/plain": [
       "pycox.preprocessing.label_transforms.LabTransDiscreteTime"
      ]
     },
     "execution_count": 10,
     "metadata": {},
     "output_type": "execute_result"
    }
   ],
   "source": [
    "type(labtrans)"
   ]
  },
  {
   "cell_type": "markdown",
   "metadata": {},
   "source": [
    "The `labtrans.cuts` contains the discretization grid. This will later be used to obtain the right time-scale for survival predictions."
   ]
  },
  {
   "cell_type": "code",
   "execution_count": 11,
   "metadata": {},
   "outputs": [
    {
     "data": {
      "text/plain": [
       "array([ 0.        ,  2.86549708,  5.73099415,  8.59649123, 11.4619883 ,\n",
       "       14.32748538, 17.19298245, 20.05847953, 22.9239766 , 25.78947368])"
      ]
     },
     "execution_count": 11,
     "metadata": {},
     "output_type": "execute_result"
    }
   ],
   "source": [
    "labtrans.cuts"
   ]
  },
  {
   "cell_type": "markdown",
   "metadata": {},
   "source": [
    "Now, `y_train` is a tuple with the indices of the discretized times, in addition to event indicators."
   ]
  },
  {
   "cell_type": "code",
   "execution_count": 12,
   "metadata": {},
   "outputs": [
    {
     "data": {
      "text/plain": [
       "(array([2, 3, 7, 2, 7, 1, 7, 0, 2, 1, 0, 6, 1, 7, 3, 8, 5, 3, 1, 3, 2, 1,\n",
       "        0, 5, 2, 1, 4, 8, 4, 2, 1, 1, 0, 1, 1, 2, 3, 0, 2, 6, 2, 0, 4, 1,\n",
       "        4, 4, 1, 1, 0, 3, 1, 1, 0, 2, 3, 1, 2, 1, 0, 3, 2, 0, 0, 1, 2, 2,\n",
       "        1, 2, 1, 7, 2, 1, 1, 1, 5, 2, 3, 3, 2, 0, 1, 2, 1, 4, 2, 2, 1, 4,\n",
       "        1, 2, 0, 2, 3, 0, 4, 2, 2, 4, 1, 1, 2, 2, 4, 0, 1, 4, 0, 3, 0, 0,\n",
       "        0, 2, 2, 0, 0, 1, 1, 7, 2, 5, 0, 1, 4, 2, 1, 1, 4, 0, 4, 4, 1, 1,\n",
       "        1, 4, 0, 0, 3, 0, 6, 1, 1, 2, 2, 3, 2, 1, 3, 1, 4, 2, 3, 0, 1, 0,\n",
       "        3, 0, 4, 2, 9, 3, 0, 2, 0, 3, 0, 7, 2, 5, 1, 5, 5, 5, 0, 0, 1, 2,\n",
       "        2, 1, 1, 4, 7, 0, 5, 2, 4, 2, 4, 2, 2, 0, 3, 0, 6, 2, 3, 1, 1, 1,\n",
       "        1, 0, 4, 6, 1, 1, 1, 3, 2, 1, 2, 1, 1, 3, 1, 2, 1, 0, 2, 1, 0, 4,\n",
       "        2, 1, 1, 1, 2, 5, 1, 0, 3, 2, 0, 3, 7, 1, 7, 2, 6, 1, 3, 2, 1, 2,\n",
       "        2, 0, 3, 0, 3, 1, 2, 2, 1, 1, 1, 8, 1, 0, 1, 3, 3, 2, 1, 8, 0, 5,\n",
       "        1, 0, 1, 4, 5, 2, 3, 3, 3, 7, 3, 2, 1, 4, 2, 0, 0, 1, 7, 3, 1, 0,\n",
       "        5, 1, 0, 0, 0, 3, 0, 0, 2, 8, 2, 4, 2, 2, 2, 1, 8, 4, 0, 2, 4, 1,\n",
       "        0, 2, 1, 1, 3, 1, 3, 0, 5, 1, 2, 5, 3, 4, 2, 4, 0, 3, 2, 2, 1, 4,\n",
       "        3, 1, 1, 3, 5, 2, 2, 5, 1, 1, 1, 8, 2, 1, 4, 1, 2, 4, 2, 3, 2, 4,\n",
       "        1, 1, 3, 1, 1, 1, 0, 3, 2, 3, 5, 3, 2, 2, 0, 8, 3, 3, 1, 0, 0, 4,\n",
       "        1, 2, 2, 1, 1, 6, 2, 1, 2, 7, 3, 1, 1, 1, 3, 6, 2, 6, 1, 2, 1, 2,\n",
       "        3, 5, 5, 0, 6, 1, 1, 2, 6, 4, 0, 3, 3, 0, 2, 2, 4, 7, 3, 7, 1, 1,\n",
       "        4, 3, 2, 1, 2, 1, 1, 1, 7, 2, 3, 0, 0, 0, 4, 5, 1, 3, 1, 1, 0, 2,\n",
       "        3, 1, 1, 4, 3, 0, 0, 6, 6, 8, 1, 5, 3, 3, 1, 6, 2, 0, 5, 2, 1, 0,\n",
       "        1, 0, 0, 1, 1, 4, 0, 1, 1, 5, 1, 1, 6, 9, 1, 6, 3, 4, 0, 3, 1, 2,\n",
       "        1, 2, 0, 1, 1, 1, 1, 8, 0, 1, 1, 4, 1, 1, 2, 2, 1, 0, 1, 1, 2, 1,\n",
       "        1, 3, 2, 1, 1, 4, 1, 4, 2, 2, 0, 3, 2, 2, 3, 2, 2, 4, 4]),\n",
       " array([0., 1., 1., 1., 1., 0., 1., 0., 0., 1., 0., 0., 0., 1., 1., 0., 1.,\n",
       "        1., 0., 1., 0., 0., 0., 1., 0., 1., 1., 1., 0., 0., 1., 1., 0., 0.,\n",
       "        0., 0., 0., 0., 1., 1., 0., 0., 1., 0., 1., 1., 0., 0., 0., 1., 0.,\n",
       "        0., 0., 1., 1., 1., 1., 0., 0., 1., 0., 0., 0., 1., 1., 1., 0., 1.,\n",
       "        0., 1., 0., 0., 1., 0., 1., 0., 0., 0., 0., 0., 0., 0., 0., 1., 1.,\n",
       "        1., 1., 1., 0., 1., 0., 0., 1., 0., 0., 0., 0., 1., 0., 1., 1., 0.,\n",
       "        1., 0., 0., 0., 0., 1., 0., 0., 0., 0., 1., 0., 0., 0., 0., 0., 0.,\n",
       "        1., 0., 1., 1., 0., 0., 0., 1., 0., 0., 1., 0., 0., 0., 0., 0., 0.,\n",
       "        1., 0., 1., 1., 1., 1., 0., 1., 0., 0., 0., 0., 1., 0., 1., 0., 0.,\n",
       "        0., 1., 0., 1., 0., 1., 1., 0., 0., 0., 1., 0., 1., 0., 1., 1., 0.,\n",
       "        1., 0., 0., 0., 0., 0., 1., 0., 0., 1., 1., 0., 0., 0., 0., 0., 0.,\n",
       "        0., 0., 0., 0., 0., 0., 1., 1., 1., 0., 0., 1., 0., 1., 1., 1., 0.,\n",
       "        1., 1., 1., 0., 1., 0., 0., 1., 1., 0., 1., 0., 0., 1., 0., 0., 1.,\n",
       "        1., 1., 0., 0., 0., 0., 0., 1., 1., 0., 1., 0., 0., 1., 0., 1., 1.,\n",
       "        0., 0., 0., 0., 1., 0., 0., 0., 1., 0., 1., 0., 1., 0., 1., 1., 1.,\n",
       "        0., 0., 0., 0., 1., 0., 1., 0., 1., 0., 0., 0., 0., 1., 1., 0., 1.,\n",
       "        1., 1., 1., 0., 0., 1., 0., 0., 0., 0., 1., 1., 0., 0., 0., 1., 0.,\n",
       "        0., 0., 1., 0., 0., 1., 0., 1., 0., 1., 1., 1., 0., 0., 0., 0., 1.,\n",
       "        0., 0., 0., 1., 0., 0., 1., 0., 1., 0., 1., 0., 0., 0., 1., 1., 1.,\n",
       "        1., 0., 1., 0., 1., 1., 0., 0., 1., 0., 0., 1., 0., 1., 1., 0., 0.,\n",
       "        0., 0., 0., 0., 1., 1., 1., 1., 0., 1., 1., 0., 1., 0., 1., 0., 0.,\n",
       "        0., 0., 0., 0., 0., 1., 0., 1., 1., 0., 0., 1., 0., 0., 0., 0., 1.,\n",
       "        1., 0., 0., 0., 0., 0., 0., 0., 0., 0., 1., 1., 0., 0., 1., 1., 1.,\n",
       "        0., 0., 0., 0., 0., 1., 0., 1., 0., 0., 0., 0., 0., 1., 1., 0., 0.,\n",
       "        0., 0., 1., 1., 1., 1., 0., 1., 0., 0., 0., 1., 1., 0., 0., 0., 0.,\n",
       "        1., 1., 0., 1., 0., 0., 0., 0., 1., 0., 0., 0., 1., 0., 0., 1., 0.,\n",
       "        1., 1., 1., 0., 0., 0., 1., 1., 0., 1., 1., 1., 0., 1., 1., 0., 1.,\n",
       "        0., 0., 0., 0., 0., 0., 1., 1., 1., 0., 0., 1., 1., 1., 0., 0., 1.,\n",
       "        1., 1., 0., 0., 0., 0., 0., 0., 0., 1., 0., 0., 1., 1., 0., 1., 0.,\n",
       "        0., 0., 1., 0., 0., 0., 0., 1., 0., 0., 1., 1., 1., 1., 0., 0., 0.,\n",
       "        0., 1., 1., 0., 1., 0., 0., 0., 0., 1., 0., 0., 0., 1., 0.],\n",
       "       dtype=float32))"
      ]
     },
     "execution_count": 12,
     "metadata": {},
     "output_type": "execute_result"
    }
   ],
   "source": [
    "y_train"
   ]
  },
  {
   "cell_type": "code",
   "execution_count": 13,
   "metadata": {},
   "outputs": [
    {
     "data": {
      "text/plain": [
       "array([ 5.73099415,  8.59649123, 20.05847953,  5.73099415, 20.05847953,\n",
       "        2.86549708, 20.05847953,  0.        ,  5.73099415,  2.86549708,\n",
       "        0.        , 17.19298245,  2.86549708, 20.05847953,  8.59649123,\n",
       "       22.9239766 , 14.32748538,  8.59649123,  2.86549708,  8.59649123,\n",
       "        5.73099415,  2.86549708,  0.        , 14.32748538,  5.73099415,\n",
       "        2.86549708, 11.4619883 , 22.9239766 , 11.4619883 ,  5.73099415,\n",
       "        2.86549708,  2.86549708,  0.        ,  2.86549708,  2.86549708,\n",
       "        5.73099415,  8.59649123,  0.        ,  5.73099415, 17.19298245,\n",
       "        5.73099415,  0.        , 11.4619883 ,  2.86549708, 11.4619883 ,\n",
       "       11.4619883 ,  2.86549708,  2.86549708,  0.        ,  8.59649123,\n",
       "        2.86549708,  2.86549708,  0.        ,  5.73099415,  8.59649123,\n",
       "        2.86549708,  5.73099415,  2.86549708,  0.        ,  8.59649123,\n",
       "        5.73099415,  0.        ,  0.        ,  2.86549708,  5.73099415,\n",
       "        5.73099415,  2.86549708,  5.73099415,  2.86549708, 20.05847953,\n",
       "        5.73099415,  2.86549708,  2.86549708,  2.86549708, 14.32748538,\n",
       "        5.73099415,  8.59649123,  8.59649123,  5.73099415,  0.        ,\n",
       "        2.86549708,  5.73099415,  2.86549708, 11.4619883 ,  5.73099415,\n",
       "        5.73099415,  2.86549708, 11.4619883 ,  2.86549708,  5.73099415,\n",
       "        0.        ,  5.73099415,  8.59649123,  0.        , 11.4619883 ,\n",
       "        5.73099415,  5.73099415, 11.4619883 ,  2.86549708,  2.86549708,\n",
       "        5.73099415,  5.73099415, 11.4619883 ,  0.        ,  2.86549708,\n",
       "       11.4619883 ,  0.        ,  8.59649123,  0.        ,  0.        ,\n",
       "        0.        ,  5.73099415,  5.73099415,  0.        ,  0.        ,\n",
       "        2.86549708,  2.86549708, 20.05847953,  5.73099415, 14.32748538,\n",
       "        0.        ,  2.86549708, 11.4619883 ,  5.73099415,  2.86549708,\n",
       "        2.86549708, 11.4619883 ,  0.        , 11.4619883 , 11.4619883 ,\n",
       "        2.86549708,  2.86549708,  2.86549708, 11.4619883 ,  0.        ,\n",
       "        0.        ,  8.59649123,  0.        , 17.19298245,  2.86549708,\n",
       "        2.86549708,  5.73099415,  5.73099415,  8.59649123,  5.73099415,\n",
       "        2.86549708,  8.59649123,  2.86549708, 11.4619883 ,  5.73099415,\n",
       "        8.59649123,  0.        ,  2.86549708,  0.        ,  8.59649123,\n",
       "        0.        , 11.4619883 ,  5.73099415, 25.78947368,  8.59649123,\n",
       "        0.        ,  5.73099415,  0.        ,  8.59649123,  0.        ,\n",
       "       20.05847953,  5.73099415, 14.32748538,  2.86549708, 14.32748538,\n",
       "       14.32748538, 14.32748538,  0.        ,  0.        ,  2.86549708,\n",
       "        5.73099415,  5.73099415,  2.86549708,  2.86549708, 11.4619883 ,\n",
       "       20.05847953,  0.        , 14.32748538,  5.73099415, 11.4619883 ,\n",
       "        5.73099415, 11.4619883 ,  5.73099415,  5.73099415,  0.        ,\n",
       "        8.59649123,  0.        , 17.19298245,  5.73099415,  8.59649123,\n",
       "        2.86549708,  2.86549708,  2.86549708,  2.86549708,  0.        ,\n",
       "       11.4619883 , 17.19298245,  2.86549708,  2.86549708,  2.86549708,\n",
       "        8.59649123,  5.73099415,  2.86549708,  5.73099415,  2.86549708,\n",
       "        2.86549708,  8.59649123,  2.86549708,  5.73099415,  2.86549708,\n",
       "        0.        ,  5.73099415,  2.86549708,  0.        , 11.4619883 ,\n",
       "        5.73099415,  2.86549708,  2.86549708,  2.86549708,  5.73099415,\n",
       "       14.32748538,  2.86549708,  0.        ,  8.59649123,  5.73099415,\n",
       "        0.        ,  8.59649123, 20.05847953,  2.86549708, 20.05847953,\n",
       "        5.73099415, 17.19298245,  2.86549708,  8.59649123,  5.73099415,\n",
       "        2.86549708,  5.73099415,  5.73099415,  0.        ,  8.59649123,\n",
       "        0.        ,  8.59649123,  2.86549708,  5.73099415,  5.73099415,\n",
       "        2.86549708,  2.86549708,  2.86549708, 22.9239766 ,  2.86549708,\n",
       "        0.        ,  2.86549708,  8.59649123,  8.59649123,  5.73099415,\n",
       "        2.86549708, 22.9239766 ,  0.        , 14.32748538,  2.86549708,\n",
       "        0.        ,  2.86549708, 11.4619883 , 14.32748538,  5.73099415,\n",
       "        8.59649123,  8.59649123,  8.59649123, 20.05847953,  8.59649123,\n",
       "        5.73099415,  2.86549708, 11.4619883 ,  5.73099415,  0.        ,\n",
       "        0.        ,  2.86549708, 20.05847953,  8.59649123,  2.86549708,\n",
       "        0.        , 14.32748538,  2.86549708,  0.        ,  0.        ,\n",
       "        0.        ,  8.59649123,  0.        ,  0.        ,  5.73099415,\n",
       "       22.9239766 ,  5.73099415, 11.4619883 ,  5.73099415,  5.73099415,\n",
       "        5.73099415,  2.86549708, 22.9239766 , 11.4619883 ,  0.        ,\n",
       "        5.73099415, 11.4619883 ,  2.86549708,  0.        ,  5.73099415,\n",
       "        2.86549708,  2.86549708,  8.59649123,  2.86549708,  8.59649123,\n",
       "        0.        , 14.32748538,  2.86549708,  5.73099415, 14.32748538,\n",
       "        8.59649123, 11.4619883 ,  5.73099415, 11.4619883 ,  0.        ,\n",
       "        8.59649123,  5.73099415,  5.73099415,  2.86549708, 11.4619883 ,\n",
       "        8.59649123,  2.86549708,  2.86549708,  8.59649123, 14.32748538,\n",
       "        5.73099415,  5.73099415, 14.32748538,  2.86549708,  2.86549708,\n",
       "        2.86549708, 22.9239766 ,  5.73099415,  2.86549708, 11.4619883 ,\n",
       "        2.86549708,  5.73099415, 11.4619883 ,  5.73099415,  8.59649123,\n",
       "        5.73099415, 11.4619883 ,  2.86549708,  2.86549708,  8.59649123,\n",
       "        2.86549708,  2.86549708,  2.86549708,  0.        ,  8.59649123,\n",
       "        5.73099415,  8.59649123, 14.32748538,  8.59649123,  5.73099415,\n",
       "        5.73099415,  0.        , 22.9239766 ,  8.59649123,  8.59649123,\n",
       "        2.86549708,  0.        ,  0.        , 11.4619883 ,  2.86549708,\n",
       "        5.73099415,  5.73099415,  2.86549708,  2.86549708, 17.19298245,\n",
       "        5.73099415,  2.86549708,  5.73099415, 20.05847953,  8.59649123,\n",
       "        2.86549708,  2.86549708,  2.86549708,  8.59649123, 17.19298245,\n",
       "        5.73099415, 17.19298245,  2.86549708,  5.73099415,  2.86549708,\n",
       "        5.73099415,  8.59649123, 14.32748538, 14.32748538,  0.        ,\n",
       "       17.19298245,  2.86549708,  2.86549708,  5.73099415, 17.19298245,\n",
       "       11.4619883 ,  0.        ,  8.59649123,  8.59649123,  0.        ,\n",
       "        5.73099415,  5.73099415, 11.4619883 , 20.05847953,  8.59649123,\n",
       "       20.05847953,  2.86549708,  2.86549708, 11.4619883 ,  8.59649123,\n",
       "        5.73099415,  2.86549708,  5.73099415,  2.86549708,  2.86549708,\n",
       "        2.86549708, 20.05847953,  5.73099415,  8.59649123,  0.        ,\n",
       "        0.        ,  0.        , 11.4619883 , 14.32748538,  2.86549708,\n",
       "        8.59649123,  2.86549708,  2.86549708,  0.        ,  5.73099415,\n",
       "        8.59649123,  2.86549708,  2.86549708, 11.4619883 ,  8.59649123,\n",
       "        0.        ,  0.        , 17.19298245, 17.19298245, 22.9239766 ,\n",
       "        2.86549708, 14.32748538,  8.59649123,  8.59649123,  2.86549708,\n",
       "       17.19298245,  5.73099415,  0.        , 14.32748538,  5.73099415,\n",
       "        2.86549708,  0.        ,  2.86549708,  0.        ,  0.        ,\n",
       "        2.86549708,  2.86549708, 11.4619883 ,  0.        ,  2.86549708,\n",
       "        2.86549708, 14.32748538,  2.86549708,  2.86549708, 17.19298245,\n",
       "       25.78947368,  2.86549708, 17.19298245,  8.59649123, 11.4619883 ,\n",
       "        0.        ,  8.59649123,  2.86549708,  5.73099415,  2.86549708,\n",
       "        5.73099415,  0.        ,  2.86549708,  2.86549708,  2.86549708,\n",
       "        2.86549708, 22.9239766 ,  0.        ,  2.86549708,  2.86549708,\n",
       "       11.4619883 ,  2.86549708,  2.86549708,  5.73099415,  5.73099415,\n",
       "        2.86549708,  0.        ,  2.86549708,  2.86549708,  5.73099415,\n",
       "        2.86549708,  2.86549708,  8.59649123,  5.73099415,  2.86549708,\n",
       "        2.86549708, 11.4619883 ,  2.86549708, 11.4619883 ,  5.73099415,\n",
       "        5.73099415,  0.        ,  8.59649123,  5.73099415,  5.73099415,\n",
       "        8.59649123,  5.73099415,  5.73099415, 11.4619883 , 11.4619883 ])"
      ]
     },
     "execution_count": 13,
     "metadata": {},
     "output_type": "execute_result"
    }
   ],
   "source": [
    "labtrans.cuts[y_train[0]]"
   ]
  },
  {
   "cell_type": "markdown",
   "metadata": {},
   "source": [
    "## Neural net\n",
    "\n",
    "We make a neural net with `torch`.\n",
    "For simple network structures, we can use the `MLPVanilla` provided by `torchtuples`.\n",
    "For building more advanced network architectures, see for example [the tutorials by PyTroch](https://pytorch.org/tutorials/).\n",
    "\n",
    "The following net is an MLP with two hidden layers (with 32 nodes each), ReLU activations, and `out_features` output nodes.\n",
    "We also have batch normalization and dropout between the layers."
   ]
  },
  {
   "cell_type": "code",
   "execution_count": 14,
   "metadata": {},
   "outputs": [],
   "source": [
    "in_features = x_train.shape[1]\n",
    "num_nodes = [32, 32]\n",
    "out_features = labtrans.out_features\n",
    "batch_norm = True\n",
    "dropout = 0.1\n",
    "\n",
    "net = tt.practical.MLPVanilla(in_features, num_nodes, out_features, batch_norm, dropout)"
   ]
  },
  {
   "cell_type": "markdown",
   "metadata": {},
   "source": [
    "If you instead want to build this network with `torch` you can uncomment the following code.\n",
    "It is essentially equivalent to the `MLPVanilla`, but without the `torch.nn.init.kaiming_normal_` weight initialization."
   ]
  },
  {
   "cell_type": "code",
   "execution_count": 15,
   "metadata": {},
   "outputs": [],
   "source": [
    "# net = torch.nn.Sequential(\n",
    "#     torch.nn.Linear(in_features, 32),\n",
    "#     torch.nn.ReLU(),\n",
    "#     torch.nn.BatchNorm1d(32),\n",
    "#     torch.nn.Dropout(0.1),\n",
    "    \n",
    "#     torch.nn.Linear(32, 32),\n",
    "#     torch.nn.ReLU(),\n",
    "#     torch.nn.BatchNorm1d(32),\n",
    "#     torch.nn.Dropout(0.1),\n",
    "    \n",
    "#     torch.nn.Linear(32, out_features)\n",
    "# )"
   ]
  },
  {
   "cell_type": "markdown",
   "metadata": {},
   "source": [
    "## Training the model\n",
    "\n",
    "To train the model we need to define an optimizer. You can choose any `torch.optim` optimizer, or use one from `tt.optim`.\n",
    "The latter is built on top of the `torch` optimizers, but with some added functionality (such as not requiring `net.parameters()` as input and the `model.lr_finder` for finding suitable learning rates).\n",
    "We will here use the `Adam` optimizer with learning rate 0.01.\n",
    "\n",
    "We also set `duration_index` which connects the output nodes of the network the the discretization times. This is only useful for prediction and does not affect the training procedure.\n",
    "\n",
    "The `LogisticHazard` can also take the argument `device` which can be use to choose between running on the CPU and GPU. The default behavior is to run on a GPU if it is available, and CPU if not.\n",
    "See `?LogisticHazard` for details."
   ]
  },
  {
   "cell_type": "code",
   "execution_count": 16,
   "metadata": {},
   "outputs": [],
   "source": [
    "model = LogisticHazard(net, tt.optim.Adam(0.01), duration_index=labtrans.cuts)\n",
    "# model = PMF(net, tt.optim.Adam(0.01), duration_index=labtrans.cuts)\n",
    "# model = DeepHitSingle(net, tt.optim.Adam(0.01), duration_index=labtrans.cuts)"
   ]
  },
  {
   "cell_type": "markdown",
   "metadata": {},
   "source": [
    "Next, we set the `batch_size` and the number of training `epochs`.\n",
    "\n",
    "We also include the `EarlyStopping` callback to stop training when the validation loss stops improving."
   ]
  },
  {
   "cell_type": "code",
   "execution_count": 17,
   "metadata": {},
   "outputs": [],
   "source": [
    "batch_size = 256\n",
    "epochs = 100\n",
    "callbacks = [tt.cb.EarlyStopping()]"
   ]
  },
  {
   "cell_type": "markdown",
   "metadata": {},
   "source": [
    "We can now train the network and the `log` object keeps track of the training progress."
   ]
  },
  {
   "cell_type": "code",
   "execution_count": 18,
   "metadata": {},
   "outputs": [
    {
     "name": "stdout",
     "output_type": "stream",
     "text": [
      "0:\t[0s / 0s],\t\ttrain_loss: 2.5841,\tval_loss: 2.2052\n",
      "1:\t[0s / 0s],\t\ttrain_loss: 1.9948,\tval_loss: 2.0746\n",
      "2:\t[0s / 0s],\t\ttrain_loss: 2.1531,\tval_loss: 1.9466\n",
      "3:\t[0s / 0s],\t\ttrain_loss: 1.9625,\tval_loss: 1.8166\n",
      "4:\t[0s / 0s],\t\ttrain_loss: 1.8014,\tval_loss: 1.6661\n",
      "5:\t[0s / 0s],\t\ttrain_loss: 1.5764,\tval_loss: 1.5244\n",
      "6:\t[0s / 0s],\t\ttrain_loss: 1.5536,\tval_loss: 1.3999\n",
      "7:\t[0s / 0s],\t\ttrain_loss: 1.3836,\tval_loss: 1.2942\n",
      "8:\t[0s / 0s],\t\ttrain_loss: 1.0839,\tval_loss: 1.1925\n",
      "9:\t[0s / 0s],\t\ttrain_loss: 0.9284,\tval_loss: 1.1231\n",
      "10:\t[0s / 0s],\t\ttrain_loss: 0.7619,\tval_loss: 1.0902\n",
      "11:\t[0s / 0s],\t\ttrain_loss: 0.8052,\tval_loss: 1.0784\n",
      "12:\t[0s / 0s],\t\ttrain_loss: 0.6961,\tval_loss: 1.0787\n",
      "13:\t[0s / 0s],\t\ttrain_loss: 0.7312,\tval_loss: 1.0856\n",
      "14:\t[0s / 0s],\t\ttrain_loss: 0.6017,\tval_loss: 1.1000\n",
      "15:\t[0s / 0s],\t\ttrain_loss: 0.6922,\tval_loss: 1.1215\n",
      "16:\t[0s / 0s],\t\ttrain_loss: 0.5549,\tval_loss: 1.1437\n",
      "17:\t[0s / 0s],\t\ttrain_loss: 0.5781,\tval_loss: 1.1601\n",
      "18:\t[0s / 0s],\t\ttrain_loss: 0.5268,\tval_loss: 1.1846\n",
      "19:\t[0s / 0s],\t\ttrain_loss: 0.5684,\tval_loss: 1.2013\n",
      "20:\t[0s / 0s],\t\ttrain_loss: 0.4792,\tval_loss: 1.2006\n",
      "21:\t[0s / 0s],\t\ttrain_loss: 0.4355,\tval_loss: 1.2236\n"
     ]
    }
   ],
   "source": [
    "log = model.fit(x_train, y_train, batch_size, epochs, callbacks, val_data=val)"
   ]
  },
  {
   "cell_type": "code",
   "execution_count": 19,
   "metadata": {},
   "outputs": [
    {
     "data": {
      "image/png": "[encoded data removed]",
      "text/plain": [
       "<Figure size 640x480 with 1 Axes>"
      ]
     },
     "metadata": {},
     "output_type": "display_data"
    }
   ],
   "source": [
    "_ = log.plot()"
   ]
  },
  {
   "cell_type": "markdown",
   "metadata": {},
   "source": [
    "After termination, the `EarlyStopping` callback loads the best performing model (in terms of validation loss).\n",
    "We can verify this by comparing the minimum validation loss to the validation score of the trained `model`."
   ]
  },
  {
   "cell_type": "code",
   "execution_count": 20,
   "metadata": {},
   "outputs": [
    {
     "data": {
      "text/plain": [
       "1.0783779621124268"
      ]
     },
     "execution_count": 20,
     "metadata": {},
     "output_type": "execute_result"
    }
   ],
   "source": [
    "log.to_pandas().val_loss.min()"
   ]
  },
  {
   "cell_type": "code",
   "execution_count": 21,
   "metadata": {},
   "outputs": [
    {
     "data": {
      "text/plain": [
       "{'loss': 1.0783779621124268}"
      ]
     },
     "execution_count": 21,
     "metadata": {},
     "output_type": "execute_result"
    }
   ],
   "source": [
    "model.score_in_batches(val)"
   ]
  },
  {
   "cell_type": "markdown",
   "metadata": {},
   "source": [
    "## Prediction\n",
    "\n",
    "For evaluation we first need to obtain survival estimates for the test set.\n",
    "This can be done with `model.predict_surv` which returns an array of survival estimates, or with `model.predict_surv_df` which returns the survival estimates as a dataframe."
   ]
  },
  {
   "cell_type": "code",
   "execution_count": 22,
   "metadata": {},
   "outputs": [],
   "source": [
    "surv = model.predict_surv_df(x_test)"
   ]
  },
  {
   "cell_type": "markdown",
   "metadata": {},
   "source": [
    "We can plot the survival estimates for the first 5 individuals.\n",
    "Note that the time scale is correct because we have set `model.duration_index` to be the grid points.\n",
    "We have, however, only defined the survival estimates at the 10 times in our discretization grid, so, the survival estimates is a step function"
   ]
  },
  {
   "cell_type": "code",
   "execution_count": 23,
   "metadata": {},
   "outputs": [
    {
     "data": {
      "image/png": "[encoded data removed]",
      "text/plain": [
       "<Figure size 640x480 with 1 Axes>"
      ]
     },
     "metadata": {},
     "output_type": "display_data"
    }
   ],
   "source": [
    "surv.iloc[:, :5].plot(drawstyle='steps-post')\n",
    "plt.ylabel('S(t | x)')\n",
    "_ = plt.xlabel('Time')"
   ]
  },
  {
   "cell_type": "markdown",
   "metadata": {},
   "source": [
    "It is, therefore, often beneficial to [interpolate the survival estimates](https://arxiv.org/abs/1910.06724).\n",
    "Linear interpolation (constant density interpolation) can be performed with the `interpolate` method. We also need to choose how many points we want to replace each grid point with. Her we will use 10."
   ]
  },
  {
   "cell_type": "code",
   "execution_count": 24,
   "metadata": {},
   "outputs": [],
   "source": [
    "surv = model.interpolate(10).predict_surv_df(x_test)"
   ]
  },
  {
   "cell_type": "code",
   "execution_count": 25,
   "metadata": {},
   "outputs": [
    {
     "data": {
      "image/png": "[encoded data removed]",
      "text/plain": [
       "<Figure size 640x480 with 1 Axes>"
      ]
     },
     "metadata": {},
     "output_type": "display_data"
    }
   ],
   "source": [
    "surv.iloc[:, :5].plot(drawstyle='steps-post')\n",
    "plt.ylabel('S(t | x)')\n",
    "_ = plt.xlabel('Time')"
   ]
  },
  {
   "cell_type": "markdown",
   "metadata": {},
   "source": [
    "## Evaluation\n",
    "\n",
    "The `EvalSurv` class contains some useful evaluation criteria for time-to-event prediction.\n",
    "We set `censor_surv = 'km'` to state that we want to use Kaplan-Meier for estimating the censoring distribution.\n"
   ]
  },
  {
   "cell_type": "code",
   "execution_count": 26,
   "metadata": {},
   "outputs": [],
   "source": [
    "ev = EvalSurv(surv, durations_test, events_test, censor_surv='km')"
   ]
  },
  {
   "cell_type": "markdown",
   "metadata": {},
   "source": [
    "#### Concordance\n",
    "\n",
    "We start with the event-time concordance by [Antolini et al. 2005](https://onlinelibrary.wiley.com/doi/10.1002/sim.2427)."
   ]
  },
  {
   "cell_type": "code",
   "execution_count": 27,
   "metadata": {},
   "outputs": [
    {
     "data": {
      "text/plain": [
       "0.5068567304222302"
      ]
     },
     "execution_count": 27,
     "metadata": {},
     "output_type": "execute_result"
    }
   ],
   "source": [
    "ev.concordance_td('antolini')"
   ]
  },
  {
   "cell_type": "markdown",
   "metadata": {},
   "source": [
    "#### Brier Score\n",
    "\n",
    "We can plot the the [IPCW Brier score](https://onlinelibrary.wiley.com/doi/abs/10.1002/%28SICI%291097-0258%2819990915/30%2918%3A17/18%3C2529%3A%3AAID-SIM274%3E3.0.CO%3B2-5) for a given set of times.\n",
    "Here we just use 100 time-points between the min and max duration in the test set.\n",
    "Note that the score becomes unstable for the highest times. It is therefore common to disregard the rightmost part of the graph."
   ]
  },
  {
   "cell_type": "code",
   "execution_count": 28,
   "metadata": {},
   "outputs": [
    {
     "data": {
      "image/png": "[encoded data removed]",
      "text/plain": [
       "<Figure size 640x480 with 1 Axes>"
      ]
     },
     "metadata": {},
     "output_type": "display_data"
    }
   ],
   "source": [
    "time_grid = np.linspace(durations_test.min(), durations_test.max(), 100)\n",
    "ev.brier_score(time_grid).plot()\n",
    "plt.ylabel('Brier score')\n",
    "_ = plt.xlabel('Time')"
   ]
  },
  {
   "cell_type": "markdown",
   "metadata": {},
   "source": [
    "#### Negative binomial log-likelihood\n",
    "\n",
    "In a similar manner, we can plot the the [IPCW negative binomial log-likelihood](https://onlinelibrary.wiley.com/doi/abs/10.1002/%28SICI%291097-0258%2819990915/30%2918%3A17/18%3C2529%3A%3AAID-SIM274%3E3.0.CO%3B2-5)."
   ]
  },
  {
   "cell_type": "code",
   "execution_count": 29,
   "metadata": {},
   "outputs": [
    {
     "data": {
      "image/png": "[encoded data removed]",
      "text/plain": [
       "<Figure size 640x480 with 1 Axes>"
      ]
     },
     "metadata": {},
     "output_type": "display_data"
    }
   ],
   "source": [
    "ev.nbll(time_grid).plot()\n",
    "plt.ylabel('NBLL')\n",
    "_ = plt.xlabel('Time')"
   ]
  },
  {
   "cell_type": "markdown",
   "metadata": {},
   "source": [
    "#### Integrated scores\n",
    "\n",
    "The two time-dependent scores above can be integrated over time to produce a single score [Graf et al. 1999](https://onlinelibrary.wiley.com/doi/abs/10.1002/%28SICI%291097-0258%2819990915/30%2918%3A17/18%3C2529%3A%3AAID-SIM274%3E3.0.CO%3B2-5). In practice this is done by numerical integration over a defined `time_grid`."
   ]
  },
  {
   "cell_type": "code",
   "execution_count": 30,
   "metadata": {},
   "outputs": [
    {
     "data": {
      "text/plain": [
       "0.168572865717499"
      ]
     },
     "execution_count": 30,
     "metadata": {},
     "output_type": "execute_result"
    }
   ],
   "source": [
    "ev.integrated_brier_score(time_grid) "
   ]
  },
  {
   "cell_type": "code",
   "execution_count": 31,
   "metadata": {},
   "outputs": [
    {
     "data": {
      "text/plain": [
       "0.5198248736008952"
      ]
     },
     "execution_count": 31,
     "metadata": {},
     "output_type": "execute_result"
    }
   ],
   "source": [
    "ev.integrated_nbll(time_grid) "
   ]
  },
  {
   "cell_type": "markdown",
   "metadata": {},
   "source": [
    "# Next\n",
    "\n",
    "You can now look at other examples of survival methods in the [examples folder](https://nbviewer.jupyter.org/github/havakv/pycox/tree/master/examples).\n",
    "Or, alternatively take a look at\n",
    "\n",
    "- the more advanced training procedures in the notebook [02_introduction.ipynb](https://nbviewer.jupyter.org/github/havakv/pycox/blob/master/examples/02_introduction.ipynb).\n",
    "- other network architectures that combine autoencoders and survival networks in the notebook [03_network_architectures.ipynb](https://nbviewer.jupyter.org/github/havakv/pycox/blob/master/examples/03_network_architectures.ipynb).\n",
    "- working with DataLoaders and convolutional networks in the notebook [04_mnist_dataloaders_cnn.ipynb](https://nbviewer.jupyter.org/github/havakv/pycox/blob/master/examples/04_mnist_dataloaders_cnn.ipynb)."
   ]
  },
  {
   "cell_type": "code",
   "execution_count": null,
   "metadata": {},
   "outputs": [],
   "source": []
  }
 ],
 "metadata": {
  "kernelspec": {
   "display_name": "Python 3",
   "language": "python",
   "name": "python3"
  },
  "language_info": {
   "codemirror_mode": {
    "name": "ipython",
    "version": 3
   },
   "file_extension": ".py",
   "mimetype": "text/x-python",
   "name": "python",
   "nbconvert_exporter": "python",
   "pygments_lexer": "ipython3",
   "version": "3.11.7"
  }
 },
 "nbformat": 4,
 "nbformat_minor": 4
}
